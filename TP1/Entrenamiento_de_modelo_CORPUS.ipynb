{
  "cells": [
    {
      "cell_type": "markdown",
      "metadata": {
        "id": "view-in-github",
        "colab_type": "text"
      },
      "source": [
        "<a href=\"https://colab.research.google.com/github/MarceloEscobal/MarceloEscobal/blob/main/TP1/Entrenamiento_de_modelo_CORPUS.ipynb\" target=\"_parent\"><img src=\"https://colab.research.google.com/assets/colab-badge.svg\" alt=\"Open In Colab\"/></a>"
      ]
    },
    {
      "cell_type": "markdown",
      "id": "e9202aad",
      "metadata": {
        "id": "e9202aad"
      },
      "source": [
        "## 1. Carga del CSV y Preprocesamiento de texto"
      ]
    },
    {
      "cell_type": "code",
      "execution_count": 6,
      "id": "f3e748f6",
      "metadata": {
        "colab": {
          "base_uri": "https://localhost:8080/"
        },
        "id": "f3e748f6",
        "outputId": "afa9cee1-8f8f-458f-af6b-81957663c38f"
      },
      "outputs": [
        {
          "output_type": "stream",
          "name": "stdout",
          "text": [
            "🔹 Palabras más frecuentes:\n",
            "de: 476\n",
            "n: 250\n",
            "orden: 217\n",
            "formulario: 194\n",
            "pago: 126\n",
            "tributo: 90\n",
            "electronica: 69\n",
            "planilla: 59\n",
            "notificación: 55\n",
            "asunto: 52\n",
            "pdt: 39\n",
            "igvrenta: 35\n",
            "mensualiev: 35\n",
            "sol: 33\n",
            "en: 32\n",
            "buzón: 32\n",
            "electrónico: 32\n",
            "valores: 29\n",
            "resoluciones: 24\n",
            "del: 22\n",
            "coactiva: 20\n",
            "y: 20\n",
            "resolución: 19\n",
            "no: 19\n",
            "cobranza: 17\n",
            "e: 17\n",
            "emisión: 13\n",
            "comprobantes: 12\n",
            "plataforma: 12\n",
            "confirmación: 12\n"
          ]
        }
      ],
      "source": [
        "\n",
        "import pandas as pd\n",
        "import re\n",
        "from collections import Counter\n",
        "\n",
        "# 1. Cargar el CSV\n",
        "df = pd.read_csv(\"correos.csv\")\n",
        "\n",
        "# 2. Limpiar texto\n",
        "def limpiar_texto(texto):\n",
        "    if pd.isna(texto):\n",
        "        return \"\"\n",
        "    texto = texto.lower()\n",
        "    texto = re.sub(r\"\\d+\", \"\", texto)  # Quitar números\n",
        "    texto = re.sub(r\"[^\\w\\s]\", \"\", texto)  # Quitar signos\n",
        "    texto = texto.strip()\n",
        "    return texto\n",
        "\n",
        "df[\"contenido_limpio\"] = df[\"contenido\"].apply(limpiar_texto)\n",
        "\n",
        "# 3. Tokenización básica sin NLTK\n",
        "df[\"tokens\"] = df[\"contenido_limpio\"].apply(lambda x: x.split())\n",
        "\n",
        "# 4. Contar todas las palabras del corpus\n",
        "todas_palabras = [palabra for lista in df[\"tokens\"] for palabra in lista]\n",
        "frecuencias = Counter(todas_palabras)\n",
        "\n",
        "print(\"🔹 Palabras más frecuentes:\")\n",
        "for palabra, freq in frecuencias.most_common(30):\n",
        "    print(f\"{palabra}: {freq}\")\n"
      ]
    },
    {
      "cell_type": "markdown",
      "id": "052c411d",
      "metadata": {
        "id": "052c411d"
      },
      "source": [
        "## 2. Clasificación básica con diccionario manual"
      ]
    },
    {
      "cell_type": "code",
      "execution_count": 7,
      "id": "10f330b2",
      "metadata": {
        "id": "10f330b2"
      },
      "outputs": [],
      "source": [
        "\n",
        "diccionario = {\n",
        "    \"deuda\": [\"coactiva\", \"retencion\", \"requerimiento\", \"pago\", \"adeudo\", \"monto\"],\n",
        "    \"comprobante\": [\"factura\", \"boleta\", \"recibo\", \"documento\"],\n",
        "    \"citacion\": [\"citacion\", \"comparecer\", \"esquela\", \"presente\"]\n",
        "}\n",
        "\n",
        "def clasificar_correo(texto, diccionario):\n",
        "    for categoria, palabras in diccionario.items():\n",
        "        for palabra in palabras:\n",
        "            if palabra in texto:\n",
        "                return categoria\n",
        "    return \"no_clasificado\"\n",
        "\n",
        "df[\"categoria\"] = df[\"contenido_limpio\"].apply(lambda x: clasificar_correo(x, diccionario))\n",
        "df[[\"id\", \"titulo\", \"fecha\", \"categoria\"]].to_csv(\"correos_clasificados.csv\", index=False)\n"
      ]
    },
    {
      "cell_type": "markdown",
      "id": "3a1449de",
      "metadata": {
        "id": "3a1449de"
      },
      "source": [
        "## 3. Entrenamiento supervisado con Logistic Regression"
      ]
    },
    {
      "cell_type": "code",
      "execution_count": 8,
      "id": "3d7508c4",
      "metadata": {
        "colab": {
          "base_uri": "https://localhost:8080/"
        },
        "id": "3d7508c4",
        "outputId": "46adf87a-ab95-4838-a33f-270d362ab95f"
      },
      "outputs": [
        {
          "output_type": "stream",
          "name": "stdout",
          "text": [
            "📊 Reporte de Clasificación:\n",
            "\n",
            "                 precision    recall  f1-score   support\n",
            "\n",
            " 1 - importante       0.96      1.00      0.98        47\n",
            "2 - informativo       1.00      0.85      0.92        13\n",
            "\n",
            "       accuracy                           0.97        60\n",
            "      macro avg       0.98      0.92      0.95        60\n",
            "   weighted avg       0.97      0.97      0.97        60\n",
            "\n",
            "🧱 Matriz de Confusión:\n",
            "\n",
            "[[47  0]\n",
            " [ 2 11]]\n"
          ]
        },
        {
          "output_type": "stream",
          "name": "stderr",
          "text": [
            "[nltk_data] Downloading package stopwords to /root/nltk_data...\n",
            "[nltk_data]   Package stopwords is already up-to-date!\n"
          ]
        }
      ],
      "source": [
        "\n",
        "import nltk\n",
        "from sklearn.feature_extraction.text import TfidfVectorizer\n",
        "from sklearn.linear_model import LogisticRegression\n",
        "from sklearn.pipeline import Pipeline\n",
        "from sklearn.metrics import classification_report, confusion_matrix\n",
        "from nltk.corpus import stopwords\n",
        "\n",
        "nltk.download('stopwords')\n",
        "spanish_stopwords = stopwords.words('spanish')\n",
        "\n",
        "train = pd.read_csv(\"train_con_contenido_mejorado.csv\")\n",
        "test = pd.read_csv(\"test_con_contenido.csv\")\n",
        "\n",
        "X_train = train[\"contenido\"].fillna(\"\")\n",
        "y_train = train[\"prioridad\"]\n",
        "X_test = test[\"contenido\"].fillna(\"\")\n",
        "y_test = test[\"prioridad\"]\n",
        "\n",
        "pipeline = Pipeline([\n",
        "    ('tfidf', TfidfVectorizer(stop_words=spanish_stopwords)),\n",
        "    ('clf', LogisticRegression(class_weight='balanced', max_iter=1000))\n",
        "])\n",
        "\n",
        "pipeline.fit(X_train, y_train)\n",
        "y_pred = pipeline.predict(X_test)\n",
        "\n",
        "print(\"📊 Reporte de Clasificación:\\n\")\n",
        "print(classification_report(y_test, y_pred))\n",
        "print(\"🧱 Matriz de Confusión:\\n\")\n",
        "print(confusion_matrix(y_test, y_pred))\n"
      ]
    },
    {
      "cell_type": "markdown",
      "id": "9b962629",
      "metadata": {
        "id": "9b962629"
      },
      "source": [
        "## 4. Refuerzo del entrenamiento con nuevos correos informativos"
      ]
    },
    {
      "cell_type": "code",
      "execution_count": 9,
      "id": "de391b78",
      "metadata": {
        "id": "de391b78"
      },
      "outputs": [],
      "source": [
        "\n",
        "nuevos_informativos = [\n",
        "    \"Estimado usuario, nuestras oficinas estarán cerradas este viernes por mantenimiento.\",\n",
        "    \"Le informamos que la plataforma ha sido actualizada para mejorar su experiencia.\",\n",
        "    \"Este mensaje es solo para confirmar que su sesión se ha cerrado correctamente.\",\n",
        "    \"A partir del próximo mes, nuestros horarios de atención cambiarán.\",\n",
        "    \"Hemos actualizado nuestra política de privacidad. Puede revisarla en el portal web.\",\n",
        "    \"Gracias por su preferencia. Este correo no requiere ninguna acción.\",\n",
        "    \"Nos encontramos en proceso de mejora de servicios. No afecta su cuenta.\",\n",
        "    \"Se ha registrado correctamente su dirección de correo electrónico.\",\n",
        "    \"Recuerde que puede acceder a su historial desde la sección 'Mi cuenta'.\",\n",
        "    \"Este mensaje es informativo. No contiene deudas ni vencimientos pendientes.\"\n",
        "]\n",
        "\n",
        "df_nuevos_info = pd.DataFrame({\n",
        "    \"id\": range(1000, 1000 + len(nuevos_informativos)),\n",
        "    \"titulo\": [\"[INFO]\"] * len(nuevos_informativos),\n",
        "    \"fecha\": [\"2025-05-06\"] * len(nuevos_informativos),\n",
        "    \"prioridad\": [\"2 - informativo\"] * len(nuevos_informativos),\n",
        "    \"contenido\": nuevos_informativos\n",
        "})\n",
        "\n",
        "df_train = pd.read_csv(\"train_con_contenido_mejorado.csv\")\n",
        "df_train_expandidos = pd.concat([df_train, df_nuevos_info], ignore_index=True)\n",
        "df_train_expandidos.to_csv(\"train_con_contenido_reforzado.csv\", index=False)\n"
      ]
    },
    {
      "cell_type": "markdown",
      "id": "a387766f",
      "metadata": {
        "id": "a387766f"
      },
      "source": [
        "## 5. Función de predicción y pruebas con nuevos correos"
      ]
    },
    {
      "cell_type": "code",
      "execution_count": 10,
      "id": "efa82cc5",
      "metadata": {
        "colab": {
          "base_uri": "https://localhost:8080/"
        },
        "id": "efa82cc5",
        "outputId": "d5612d86-8812-48a9-da85-6bd6da1a3f35"
      },
      "outputs": [
        {
          "output_type": "stream",
          "name": "stdout",
          "text": [
            "🟢 Deuda coactiva: 1 - importante\n",
            "🟢 Comprobante disponible: 1 - importante\n",
            "🟢 Pago próximo a vencer: 1 - importante\n",
            "🟢 Correo informativo general: 2 - informativo\n",
            "🟢 Actualización de datos: 2 - informativo\n",
            "🟢 Notificación sin contexto claro: 2 - informativo\n",
            "🟢 Boleta disponible: 2 - informativo\n",
            "🟢 Resolución sin palabras clave explícitas: 2 - informativo\n",
            "🟢 Mensaje vacío: Texto vacío\n"
          ]
        }
      ],
      "source": [
        "\n",
        "import joblib\n",
        "def predecir_prioridad(correo_texto: str) -> str:\n",
        "    if not correo_texto.strip():\n",
        "        return \"Texto vacío\"\n",
        "    texto_df = pd.Series([correo_texto])\n",
        "    prediccion = pipeline.predict(texto_df)[0]\n",
        "    return prediccion\n",
        "\n",
        "correos_prueba = {\n",
        "    \"Deuda coactiva\": \"Estimado contribuyente, se ha iniciado un proceso de ejecución coactiva por deuda tributaria.\",\n",
        "    \"Comprobante disponible\": \"El comprobante de pago electrónico ya está disponible.\",\n",
        "    \"Pago próximo a vencer\": \"Recuerde que el pago del tributo mensual vence el 15.\",\n",
        "    \"Correo informativo general\": \"Nuestros sistemas estarán en mantenimiento el fin de semana.\",\n",
        "    \"Actualización de datos\": \"Actualice sus datos. Esta actualización no implica pagos.\",\n",
        "    \"Notificación sin contexto claro\": \"Tiene un documento pendiente. Ingrese con su clave SOL.\",\n",
        "    \"Boleta disponible\": \"La boleta electrónica ha sido generada y está en el sistema.\",\n",
        "    \"Resolución sin palabras clave explícitas\": \"Adjuntamos la resolución del expediente N° 2025.\",\n",
        "    \"Mensaje vacío\": \"\"\n",
        "}\n",
        "\n",
        "for titulo, contenido in correos_prueba.items():\n",
        "    print(f\"🟢 {titulo}: {predecir_prioridad(contenido)}\")\n"
      ]
    }
  ],
  "metadata": {
    "colab": {
      "provenance": [],
      "include_colab_link": true
    },
    "language_info": {
      "name": "python"
    },
    "kernelspec": {
      "name": "python3",
      "display_name": "Python 3"
    }
  },
  "nbformat": 4,
  "nbformat_minor": 5
}